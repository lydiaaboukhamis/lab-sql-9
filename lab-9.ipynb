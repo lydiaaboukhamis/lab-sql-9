{
 "cells": [
  {
   "cell_type": "code",
   "execution_count": 1,
   "id": "e6792b31",
   "metadata": {},
   "outputs": [
    {
     "name": "stdout",
     "output_type": "stream",
     "text": [
      "········\n"
     ]
    }
   ],
   "source": [
    "# Create a Python connection with SQL database and retrieve the results of the last two queries \n",
    "#(also mentioned below) as dataframes:\n",
    "\n",
    "# - Check the number of rentals for each customer for May\n",
    "# - Check the number of rentals for each customer for June\n",
    "\n",
    "#   **Hint**: You can store the results from the two queries in two separate dataframes.\n",
    "\n",
    "# Write a function that checks if customer borrowed more or less films in the month of June \n",
    "# as compared to May.\n",
    "\n",
    "#  **Hint**: For this part, you can create a join between the two dataframes created before, \n",
    "#using the merge function available for pandas dataframes. Here is a link to the documentation\n",
    "#for the [merge function](https://pandas.pydata.org/pandas-docs/stable/reference/api/pandas.DataFrame.merge.html).\n",
    "import pymysql\n",
    "from sqlalchemy import create_engine\n",
    "import pandas as pd\n",
    "import getpass  # to get the password without showing the input\n",
    "password = getpass.getpass()"
   ]
  },
  {
   "cell_type": "code",
   "execution_count": 10,
   "id": "fa20f330",
   "metadata": {},
   "outputs": [
    {
     "data": {
      "text/html": [
       "<div>\n",
       "<style scoped>\n",
       "    .dataframe tbody tr th:only-of-type {\n",
       "        vertical-align: middle;\n",
       "    }\n",
       "\n",
       "    .dataframe tbody tr th {\n",
       "        vertical-align: top;\n",
       "    }\n",
       "\n",
       "    .dataframe thead th {\n",
       "        text-align: right;\n",
       "    }\n",
       "</style>\n",
       "<table border=\"1\" class=\"dataframe\">\n",
       "  <thead>\n",
       "    <tr style=\"text-align: right;\">\n",
       "      <th></th>\n",
       "      <th>customer_id</th>\n",
       "      <th>count(rental_id)</th>\n",
       "    </tr>\n",
       "  </thead>\n",
       "  <tbody>\n",
       "    <tr>\n",
       "      <th>0</th>\n",
       "      <td>130</td>\n",
       "      <td>2</td>\n",
       "    </tr>\n",
       "    <tr>\n",
       "      <th>1</th>\n",
       "      <td>459</td>\n",
       "      <td>1</td>\n",
       "    </tr>\n",
       "    <tr>\n",
       "      <th>2</th>\n",
       "      <td>408</td>\n",
       "      <td>3</td>\n",
       "    </tr>\n",
       "    <tr>\n",
       "      <th>3</th>\n",
       "      <td>333</td>\n",
       "      <td>1</td>\n",
       "    </tr>\n",
       "    <tr>\n",
       "      <th>4</th>\n",
       "      <td>222</td>\n",
       "      <td>5</td>\n",
       "    </tr>\n",
       "  </tbody>\n",
       "</table>\n",
       "</div>"
      ],
      "text/plain": [
       "   customer_id  count(rental_id)\n",
       "0          130                 2\n",
       "1          459                 1\n",
       "2          408                 3\n",
       "3          333                 1\n",
       "4          222                 5"
      ]
     },
     "execution_count": 10,
     "metadata": {},
     "output_type": "execute_result"
    }
   ],
   "source": [
    "connection_string = 'mysql+pymysql://root:' + password + '@localhost/sakila'\n",
    "engine = create_engine(connection_string)\n",
    "\n",
    "data_may = pd.read_sql_query('''SELECT customer_id,count(rental_id) FROM rentals_may \n",
    "                             group by customer_id''', engine)\n",
    "data_may.head()"
   ]
  },
  {
   "cell_type": "code",
   "execution_count": 7,
   "id": "b2901d60",
   "metadata": {},
   "outputs": [
    {
     "data": {
      "text/html": [
       "<div>\n",
       "<style scoped>\n",
       "    .dataframe tbody tr th:only-of-type {\n",
       "        vertical-align: middle;\n",
       "    }\n",
       "\n",
       "    .dataframe tbody tr th {\n",
       "        vertical-align: top;\n",
       "    }\n",
       "\n",
       "    .dataframe thead th {\n",
       "        text-align: right;\n",
       "    }\n",
       "</style>\n",
       "<table border=\"1\" class=\"dataframe\">\n",
       "  <thead>\n",
       "    <tr style=\"text-align: right;\">\n",
       "      <th></th>\n",
       "      <th>customer_id</th>\n",
       "      <th>count(rental_id)</th>\n",
       "    </tr>\n",
       "  </thead>\n",
       "  <tbody>\n",
       "    <tr>\n",
       "      <th>0</th>\n",
       "      <td>416</td>\n",
       "      <td>5</td>\n",
       "    </tr>\n",
       "    <tr>\n",
       "      <th>1</th>\n",
       "      <td>516</td>\n",
       "      <td>6</td>\n",
       "    </tr>\n",
       "    <tr>\n",
       "      <th>2</th>\n",
       "      <td>239</td>\n",
       "      <td>5</td>\n",
       "    </tr>\n",
       "    <tr>\n",
       "      <th>3</th>\n",
       "      <td>285</td>\n",
       "      <td>3</td>\n",
       "    </tr>\n",
       "    <tr>\n",
       "      <th>4</th>\n",
       "      <td>310</td>\n",
       "      <td>6</td>\n",
       "    </tr>\n",
       "  </tbody>\n",
       "</table>\n",
       "</div>"
      ],
      "text/plain": [
       "   customer_id  count(rental_id)\n",
       "0          416                 5\n",
       "1          516                 6\n",
       "2          239                 5\n",
       "3          285                 3\n",
       "4          310                 6"
      ]
     },
     "execution_count": 7,
     "metadata": {},
     "output_type": "execute_result"
    }
   ],
   "source": [
    "data_june = pd.read_sql_query('''SELECT customer_id,count(rental_id) FROM rentals_june \n",
    "                             group by customer_id''', engine)\n",
    "data_june.head()"
   ]
  },
  {
   "cell_type": "code",
   "execution_count": 13,
   "id": "2f84a71e",
   "metadata": {},
   "outputs": [
    {
     "data": {
      "text/html": [
       "<div>\n",
       "<style scoped>\n",
       "    .dataframe tbody tr th:only-of-type {\n",
       "        vertical-align: middle;\n",
       "    }\n",
       "\n",
       "    .dataframe tbody tr th {\n",
       "        vertical-align: top;\n",
       "    }\n",
       "\n",
       "    .dataframe thead th {\n",
       "        text-align: right;\n",
       "    }\n",
       "</style>\n",
       "<table border=\"1\" class=\"dataframe\">\n",
       "  <thead>\n",
       "    <tr style=\"text-align: right;\">\n",
       "      <th></th>\n",
       "      <th>customer_id</th>\n",
       "      <th>count(rental_id)_x</th>\n",
       "      <th>count(rental_id)_y</th>\n",
       "    </tr>\n",
       "  </thead>\n",
       "  <tbody>\n",
       "    <tr>\n",
       "      <th>0</th>\n",
       "      <td>130</td>\n",
       "      <td>2.0</td>\n",
       "      <td>6.0</td>\n",
       "    </tr>\n",
       "    <tr>\n",
       "      <th>1</th>\n",
       "      <td>459</td>\n",
       "      <td>1.0</td>\n",
       "      <td>7.0</td>\n",
       "    </tr>\n",
       "    <tr>\n",
       "      <th>2</th>\n",
       "      <td>408</td>\n",
       "      <td>3.0</td>\n",
       "      <td>3.0</td>\n",
       "    </tr>\n",
       "    <tr>\n",
       "      <th>3</th>\n",
       "      <td>333</td>\n",
       "      <td>1.0</td>\n",
       "      <td>4.0</td>\n",
       "    </tr>\n",
       "    <tr>\n",
       "      <th>4</th>\n",
       "      <td>222</td>\n",
       "      <td>5.0</td>\n",
       "      <td>2.0</td>\n",
       "    </tr>\n",
       "  </tbody>\n",
       "</table>\n",
       "</div>"
      ],
      "text/plain": [
       "   customer_id  count(rental_id)_x  count(rental_id)_y\n",
       "0          130                 2.0                 6.0\n",
       "1          459                 1.0                 7.0\n",
       "2          408                 3.0                 3.0\n",
       "3          333                 1.0                 4.0\n",
       "4          222                 5.0                 2.0"
      ]
     },
     "execution_count": 13,
     "metadata": {},
     "output_type": "execute_result"
    }
   ],
   "source": [
    "data_rental_merge = data_may.merge(data_june, how='outer', on='customer_id')\n",
    "data_rental_merge.head()"
   ]
  },
  {
   "cell_type": "code",
   "execution_count": 27,
   "id": "a54aa7a6",
   "metadata": {},
   "outputs": [
    {
     "data": {
      "text/plain": [
       "Index(['count(rental_id)_x', 'count(rental_id)_y'], dtype='object')"
      ]
     },
     "execution_count": 27,
     "metadata": {},
     "output_type": "execute_result"
    }
   ],
   "source": [
    "data_rental_merge.columns"
   ]
  },
  {
   "cell_type": "code",
   "execution_count": 23,
   "id": "cf113956",
   "metadata": {},
   "outputs": [
    {
     "name": "stdout",
     "output_type": "stream",
     "text": [
      "             count(rental_id)_x  count(rental_id)_y\n",
      "customer_id                                        \n",
      "130                         2.0                 6.0\n",
      "459                         1.0                 7.0\n",
      "408                         3.0                 3.0\n",
      "333                         1.0                 4.0\n",
      "222                         5.0                 2.0\n",
      "...                         ...                 ...\n",
      "598                         NaN                 1.0\n",
      "487                         NaN                 1.0\n",
      "555                         NaN                 1.0\n",
      "335                         NaN                 1.0\n",
      "226                         NaN                 2.0\n",
      "\n",
      "[598 rows x 2 columns]\n"
     ]
    }
   ],
   "source": [
    "import numpy as np\n",
    "\n",
    "\n",
    "data_rental_merge.set_index('customer_id', inplace = True)\n",
    "\n",
    "print(data_rental_merge)\n"
   ]
  },
  {
   "cell_type": "code",
   "execution_count": 26,
   "id": "b2d91001",
   "metadata": {},
   "outputs": [
    {
     "name": "stdout",
     "output_type": "stream",
     "text": [
      "             count(rental_id)_x  count(rental_id)_y\n",
      "customer_id                                        \n",
      "130                         2.0                 6.0\n",
      "459                         1.0                 7.0\n",
      "408                         3.0                 3.0\n",
      "333                         1.0                 4.0\n",
      "222                         5.0                 2.0\n",
      "...                         ...                 ...\n",
      "598                         0.0                 1.0\n",
      "487                         0.0                 1.0\n",
      "555                         0.0                 1.0\n",
      "335                         0.0                 1.0\n",
      "226                         0.0                 2.0\n",
      "\n",
      "[598 rows x 2 columns]\n"
     ]
    }
   ],
   "source": [
    "data_rental_merge['count(rental_id)_x'] = data_rental_merge['count(rental_id)_x'].fillna(0)\n",
    "data_rental_merge['count(rental_id)_y'] = data_rental_merge['count(rental_id)_y'].fillna(0)\n",
    "print(data_rental_merge) # replacing the missing entries for customer_id, because they did not\n",
    "#rent anything in month may or june with 0"
   ]
  },
  {
   "cell_type": "code",
   "execution_count": 36,
   "id": "f14da5f0",
   "metadata": {},
   "outputs": [],
   "source": [
    "data_rental_merge['RentalJune-RentalMay'] = np.nan"
   ]
  },
  {
   "cell_type": "code",
   "execution_count": 38,
   "id": "f5b5d009",
   "metadata": {},
   "outputs": [],
   "source": [
    "data_rental_merge['RentalJune-RentalMay']= data_rental_merge['count(rental_id)_y']-data_rental_merge['count(rental_id)_x']"
   ]
  },
  {
   "cell_type": "code",
   "execution_count": 39,
   "id": "763ad953",
   "metadata": {},
   "outputs": [
    {
     "data": {
      "text/html": [
       "<div>\n",
       "<style scoped>\n",
       "    .dataframe tbody tr th:only-of-type {\n",
       "        vertical-align: middle;\n",
       "    }\n",
       "\n",
       "    .dataframe tbody tr th {\n",
       "        vertical-align: top;\n",
       "    }\n",
       "\n",
       "    .dataframe thead th {\n",
       "        text-align: right;\n",
       "    }\n",
       "</style>\n",
       "<table border=\"1\" class=\"dataframe\">\n",
       "  <thead>\n",
       "    <tr style=\"text-align: right;\">\n",
       "      <th></th>\n",
       "      <th>count(rental_id)_x</th>\n",
       "      <th>count(rental_id)_y</th>\n",
       "      <th>RentalJune-RentalMay</th>\n",
       "    </tr>\n",
       "    <tr>\n",
       "      <th>customer_id</th>\n",
       "      <th></th>\n",
       "      <th></th>\n",
       "      <th></th>\n",
       "    </tr>\n",
       "  </thead>\n",
       "  <tbody>\n",
       "    <tr>\n",
       "      <th>130</th>\n",
       "      <td>2.0</td>\n",
       "      <td>6.0</td>\n",
       "      <td>4.0</td>\n",
       "    </tr>\n",
       "    <tr>\n",
       "      <th>459</th>\n",
       "      <td>1.0</td>\n",
       "      <td>7.0</td>\n",
       "      <td>6.0</td>\n",
       "    </tr>\n",
       "    <tr>\n",
       "      <th>408</th>\n",
       "      <td>3.0</td>\n",
       "      <td>3.0</td>\n",
       "      <td>0.0</td>\n",
       "    </tr>\n",
       "    <tr>\n",
       "      <th>333</th>\n",
       "      <td>1.0</td>\n",
       "      <td>4.0</td>\n",
       "      <td>3.0</td>\n",
       "    </tr>\n",
       "    <tr>\n",
       "      <th>222</th>\n",
       "      <td>5.0</td>\n",
       "      <td>2.0</td>\n",
       "      <td>-3.0</td>\n",
       "    </tr>\n",
       "    <tr>\n",
       "      <th>...</th>\n",
       "      <td>...</td>\n",
       "      <td>...</td>\n",
       "      <td>...</td>\n",
       "    </tr>\n",
       "    <tr>\n",
       "      <th>598</th>\n",
       "      <td>0.0</td>\n",
       "      <td>1.0</td>\n",
       "      <td>1.0</td>\n",
       "    </tr>\n",
       "    <tr>\n",
       "      <th>487</th>\n",
       "      <td>0.0</td>\n",
       "      <td>1.0</td>\n",
       "      <td>1.0</td>\n",
       "    </tr>\n",
       "    <tr>\n",
       "      <th>555</th>\n",
       "      <td>0.0</td>\n",
       "      <td>1.0</td>\n",
       "      <td>1.0</td>\n",
       "    </tr>\n",
       "    <tr>\n",
       "      <th>335</th>\n",
       "      <td>0.0</td>\n",
       "      <td>1.0</td>\n",
       "      <td>1.0</td>\n",
       "    </tr>\n",
       "    <tr>\n",
       "      <th>226</th>\n",
       "      <td>0.0</td>\n",
       "      <td>2.0</td>\n",
       "      <td>2.0</td>\n",
       "    </tr>\n",
       "  </tbody>\n",
       "</table>\n",
       "<p>598 rows × 3 columns</p>\n",
       "</div>"
      ],
      "text/plain": [
       "             count(rental_id)_x  count(rental_id)_y  RentalJune-RentalMay\n",
       "customer_id                                                              \n",
       "130                         2.0                 6.0                   4.0\n",
       "459                         1.0                 7.0                   6.0\n",
       "408                         3.0                 3.0                   0.0\n",
       "333                         1.0                 4.0                   3.0\n",
       "222                         5.0                 2.0                  -3.0\n",
       "...                         ...                 ...                   ...\n",
       "598                         0.0                 1.0                   1.0\n",
       "487                         0.0                 1.0                   1.0\n",
       "555                         0.0                 1.0                   1.0\n",
       "335                         0.0                 1.0                   1.0\n",
       "226                         0.0                 2.0                   2.0\n",
       "\n",
       "[598 rows x 3 columns]"
      ]
     },
     "execution_count": 39,
     "metadata": {},
     "output_type": "execute_result"
    }
   ],
   "source": [
    "data_rental_merge"
   ]
  },
  {
   "cell_type": "code",
   "execution_count": 60,
   "id": "eeb394cb",
   "metadata": {},
   "outputs": [],
   "source": [
    "def rental_diff(index):\n",
    "    import getpass \n",
    "    import numpy as np\n",
    "    password = getpass.getpass()\n",
    "    connection_string = 'mysql+pymysql://root:' + password + '@localhost/sakila'\n",
    "    engine = create_engine(connection_string)\n",
    "    data_may = pd.read_sql_query('''SELECT customer_id,count(rental_id) FROM rentals_may \n",
    "                             group by customer_id''', engine)\n",
    "    data_june = pd.read_sql_query('''SELECT customer_id,count(rental_id) FROM rentals_june \n",
    "                             group by customer_id''', engine)\n",
    "    data_rental_merge = data_may.merge(data_june, how='outer', on='customer_id')\n",
    "    data_rental_merge.set_index('customer_id', inplace = True)\n",
    "    data_rental_merge['count(rental_id)_x'] = data_rental_merge['count(rental_id)_x'].fillna(0)\n",
    "    data_rental_merge['count(rental_id)_y'] = data_rental_merge['count(rental_id)_y'].fillna(0)\n",
    "    data_rental_merge['RentalJune-RentalMay'] = np.nan\n",
    "    data_rental_merge['RentalJune-RentalMay']= data_rental_merge['count(rental_id)_y']-data_rental_merge['count(rental_id)_x']\n",
    "    return(\"The customer borrowed in June compared to May this number of movies more:\",int(data_rental_merge.at[index, 'RentalJune-RentalMay']))\n",
    "\n"
   ]
  },
  {
   "cell_type": "code",
   "execution_count": 61,
   "id": "7f4d5329",
   "metadata": {},
   "outputs": [
    {
     "name": "stdout",
     "output_type": "stream",
     "text": [
      "········\n"
     ]
    },
    {
     "data": {
      "text/plain": [
       "('The customer borrowed in June compared to May this number of movies more:',\n",
       " -3)"
      ]
     },
     "execution_count": 61,
     "metadata": {},
     "output_type": "execute_result"
    }
   ],
   "source": [
    "rental_diff(222) #applying for one customer_id"
   ]
  },
  {
   "cell_type": "code",
   "execution_count": null,
   "id": "49c11a03",
   "metadata": {},
   "outputs": [],
   "source": []
  }
 ],
 "metadata": {
  "kernelspec": {
   "display_name": "Python 3",
   "language": "python",
   "name": "python3"
  },
  "language_info": {
   "codemirror_mode": {
    "name": "ipython",
    "version": 3
   },
   "file_extension": ".py",
   "mimetype": "text/x-python",
   "name": "python",
   "nbconvert_exporter": "python",
   "pygments_lexer": "ipython3",
   "version": "3.8.8"
  }
 },
 "nbformat": 4,
 "nbformat_minor": 5
}
